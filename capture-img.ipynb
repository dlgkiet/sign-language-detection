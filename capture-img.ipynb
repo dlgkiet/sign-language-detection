{
 "cells": [
  {
   "cell_type": "code",
   "execution_count": 1,
   "id": "595e1889",
   "metadata": {},
   "outputs": [],
   "source": [
    "import os\n",
    "import cv2\n",
    "import time\n",
    "import uuid"
   ]
  },
  {
   "cell_type": "code",
   "execution_count": 3,
   "id": "1fb27da6",
   "metadata": {},
   "outputs": [
    {
     "name": "stdout",
     "output_type": "stream",
     "text": [
      "Collecting images for Hello\n",
      "Collecting images for Yes\n",
      "Collecting images for No\n",
      "Collecting images for Thanks\n",
      "Collecting images for ILoveYou\n",
      "Collecting images for Please\n"
     ]
    }
   ],
   "source": [
    "IMAGE_PATH = 'CollectedImages'\n",
    "labels = ['Hello', 'Yes', 'No', 'Thanks', 'ILoveYou', 'Please']\n",
    "number_of_images = 20\n",
    "\n",
    "for label in labels:\n",
    "    img_path = os.path.join(IMAGE_PATH, label)\n",
    "    os.makedirs(img_path, exist_ok=True)\n",
    "    cap = cv2.VideoCapture(0)\n",
    "    print('Collecting images for {}'.format(label))\n",
    "    \n",
    "    # Countdown before starting\n",
    "    for i in range(5, 0, -1):\n",
    "        ret, frame = cap.read()\n",
    "        cv2.putText(frame, f'Starting in {i}', (50, 50), \n",
    "                    cv2.FONT_HERSHEY_SIMPLEX, 1, (0, 0, 255), 2)\n",
    "        cv2.imshow('frame', frame)\n",
    "        cv2.waitKey(1000)\n",
    "    \n",
    "    for imgnum in range(number_of_images):\n",
    "        ret, frame = cap.read()\n",
    "        if not ret:\n",
    "            continue\n",
    "        \n",
    "        imagename = os.path.join(img_path, f'{label}.{uuid.uuid1()}.jpg')\n",
    "        cv2.imwrite(imagename, frame)\n",
    "        cv2.imshow('frame', frame)\n",
    "        \n",
    "        # Wait a short time before next capture\n",
    "        if cv2.waitKey(500) & 0xFF == ord('q'):\n",
    "            break\n",
    "\n",
    "    cap.release()\n",
    "    cv2.destroyAllWindows()"
   ]
  }
 ],
 "metadata": {
  "kernelspec": {
   "display_name": "Python 3",
   "language": "python",
   "name": "python3"
  },
  "language_info": {
   "codemirror_mode": {
    "name": "ipython",
    "version": 3
   },
   "file_extension": ".py",
   "mimetype": "text/x-python",
   "name": "python",
   "nbconvert_exporter": "python",
   "pygments_lexer": "ipython3",
   "version": "3.10.6"
  }
 },
 "nbformat": 4,
 "nbformat_minor": 5
}
