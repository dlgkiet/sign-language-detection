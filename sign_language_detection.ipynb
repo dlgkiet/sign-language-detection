{
 "cells": [
  {
   "cell_type": "markdown",
   "id": "a2927306",
   "metadata": {},
   "source": [
    "# Cài đặt các Dependencies"
   ]
  },
  {
   "cell_type": "code",
   "execution_count": null,
   "id": "c9322f20",
   "metadata": {},
   "outputs": [
    {
     "name": "stderr",
     "output_type": "stream",
     "text": [
      "Cloning into 'yolov5'...\n"
     ]
    }
   ],
   "source": [
    "# Clone YOLOv5 repository\n",
    "!git clone https://github.com/ultralytics/yolov5.git\n",
    "%cd yolov5"
   ]
  },
  {
   "cell_type": "code",
   "execution_count": 2,
   "id": "4b04a750",
   "metadata": {},
   "outputs": [
    {
     "name": "stderr",
     "output_type": "stream",
     "text": [
      "The system cannot find the file specified.\n"
     ]
    },
    {
     "name": "stdout",
     "output_type": "stream",
     "text": [
      "Note: you may need to restart the kernel to use updated packages.\n",
      "Setup complete. Using torch 2.7.0+cpu CPU\n"
     ]
    }
   ],
   "source": [
    "# Cài đặt dependencies\n",
    "%pip install gitpython>=3.1.30 matplotlib>=3.3 numpy>=1.23.5 opencv-python>=4.1.1 pillow>=10.3.0 psutil PyYAML>=5.3.1 requests>=2.32.2 scipy>=1.4.1 thop>=0.1.1 torch>=1.8.0 torchvision>=0.9.0 tqdm>=4.66.3 ultralytics>=8.2.34 protobuf<=3.20.1 pandas>=1.1.4 seaborn>=0.11.0\n",
    "\n",
    "# Import các thư viện cần thiết\n",
    "import torch\n",
    "from IPython.display import Image, clear_output\n",
    "\n",
    "# clear_output()  # Có thể giữ hoặc bỏ tùy nhu cầu\n",
    "\n",
    "# Kiểm tra cài đặt\n",
    "print('Setup complete. Using torch %s %s' % (\n",
    "    torch.__version__, \n",
    "    torch.cuda.get_device_properties(0) if torch.cuda.is_available() else 'CPU'\n",
    "))"
   ]
  },
  {
   "cell_type": "code",
   "execution_count": null,
   "id": "684db961",
   "metadata": {},
   "outputs": [
    {
     "ename": "ModuleNotFoundError",
     "evalue": "No module named 'yaml'",
     "output_type": "error",
     "traceback": [
      "\u001b[1;31m---------------------------------------------------------------------------\u001b[0m",
      "\u001b[1;31mModuleNotFoundError\u001b[0m                       Traceback (most recent call last)",
      "Cell \u001b[1;32mIn[18], line 2\u001b[0m\n\u001b[0;32m      1\u001b[0m \u001b[38;5;66;03m# define number of classes based on YAML\u001b[39;00m\n\u001b[1;32m----> 2\u001b[0m \u001b[38;5;28;01mimport\u001b[39;00m \u001b[38;5;21;01myaml\u001b[39;00m\n\u001b[0;32m      3\u001b[0m \u001b[38;5;28;01mwith\u001b[39;00m \u001b[38;5;28mopen\u001b[39m(\u001b[38;5;124m\"\u001b[39m\u001b[38;5;124mdata.yaml\u001b[39m\u001b[38;5;124m\"\u001b[39m, \u001b[38;5;124m'\u001b[39m\u001b[38;5;124mr\u001b[39m\u001b[38;5;124m'\u001b[39m) \u001b[38;5;28;01mas\u001b[39;00m stream:\n\u001b[0;32m      4\u001b[0m     num_classes \u001b[38;5;241m=\u001b[39m \u001b[38;5;28mstr\u001b[39m(yaml\u001b[38;5;241m.\u001b[39msafe_load(stream)[\u001b[38;5;124m'\u001b[39m\u001b[38;5;124mnc\u001b[39m\u001b[38;5;124m'\u001b[39m])\n",
      "\u001b[1;31mModuleNotFoundError\u001b[0m: No module named 'yaml'"
     ]
    }
   ],
   "source": [
    "# Export code snippet and paste here\n",
    "%cd /content \n",
    "!curl -L \"https://github.com/entbappy/Branching-tutorial/raw/master/Sign_language_data.zip\" > SignData.zip; unzip SignData.zip; rm SignData.zip"
   ]
  },
  {
   "cell_type": "code",
   "execution_count": null,
   "id": "6257eda0",
   "metadata": {},
   "outputs": [],
   "source": [
    "# this is the YAML file  we're loading into this notebook with our data\n",
    "!type data.yaml"
   ]
  }
 ],
 "metadata": {
  "kernelspec": {
   "display_name": "Python 3",
   "language": "python",
   "name": "python3"
  },
  "language_info": {
   "codemirror_mode": {
    "name": "ipython",
    "version": 3
   },
   "file_extension": ".py",
   "mimetype": "text/x-python",
   "name": "python",
   "nbconvert_exporter": "python",
   "pygments_lexer": "ipython3",
   "version": "3.10.8"
  }
 },
 "nbformat": 4,
 "nbformat_minor": 5
}
