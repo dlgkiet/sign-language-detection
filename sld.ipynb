{
 "cells": [
  {
   "cell_type": "code",
   "execution_count": 1,
   "id": "4fede848",
   "metadata": {},
   "outputs": [],
   "source": [
    "import cv2\n",
    "from ultralytics import YOLO\n",
    "\n",
    "# Tải mô hình YOLOv11 (hoặc mô hình bạn đã huấn luyện)\n",
    "model = YOLO('C:/Users/84967/Downloads/GIT CLONE HTTP/sign-language-detection/best_1.1b.pt')  # Thay đường dẫn mô hình nếu cần\n",
    "\n",
    "# Mở webcam\n",
    "cap = cv2.VideoCapture(0)  # Hoặc đường dẫn file video nếu không dùng webcam\n",
    "\n",
    "while True:\n",
    "    ret, frame = cap.read()\n",
    "    if not ret:\n",
    "        break\n",
    "\n",
    "    # Chạy mô hình dự đoán trên frame\n",
    "    results = model.predict(source=frame, conf=0.25, verbose=False)\n",
    "\n",
    "    # Vẽ kết quả lên frame (results[0].plot() trả về ảnh đã vẽ bounding boxes)\n",
    "    annotated_frame = results[0].plot()\n",
    "\n",
    "    # Hiển thị kết quả\n",
    "    cv2.imshow(\"YOLOv11 Detection\", cv2.resize(annotated_frame, (800, 600)))\n",
    "\n",
    "    # Nhấn 'q' để thoát\n",
    "    if cv2.waitKey(1) & 0xFF == ord('q'):\n",
    "        break\n",
    "\n",
    "# Giải phóng camera và đóng cửa sổ\n",
    "cap.release()\n",
    "cv2.destroyAllWindows()\n"
   ]
  }
 ],
 "metadata": {
  "kernelspec": {
   "display_name": "Python 3",
   "language": "python",
   "name": "python3"
  },
  "language_info": {
   "codemirror_mode": {
    "name": "ipython",
    "version": 3
   },
   "file_extension": ".py",
   "mimetype": "text/x-python",
   "name": "python",
   "nbconvert_exporter": "python",
   "pygments_lexer": "ipython3",
   "version": "3.10.8"
  }
 },
 "nbformat": 4,
 "nbformat_minor": 5
}
